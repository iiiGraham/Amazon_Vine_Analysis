{
  "nbformat": 4,
  "nbformat_minor": 0,
  "metadata": {
    "colab": {
      "name": "mod_16_del_2.ipynb",
      "provenance": [],
      "collapsed_sections": []
    },
    "kernelspec": {
      "name": "python3",
      "display_name": "Python 3"
    },
    "language_info": {
      "name": "python"
    }
  },
  "cells": [
    {
      "cell_type": "code",
      "metadata": {
        "colab": {
          "base_uri": "https://localhost:8080/"
        },
        "id": "0RiOjSlCfQ_y",
        "outputId": "3616e714-a150-4d07-ab8e-13f5c144919f"
      },
      "source": [
        "import os\n",
        "# Find the latest version of spark 2.0  from http://www-us.apache.org/dist/spark/ and enter as the spark version\n",
        "# For example:\n",
        "# spark_version = 'spark-3.0.0'\n",
        "spark_version = 'spark-3.1.2'\n",
        "os.environ['SPARK_VERSION']=spark_version\n",
        "\n",
        "# Install Spark and Java\n",
        "!apt-get update\n",
        "!apt-get install openjdk-11-jdk-headless -qq > /dev/null\n",
        "!wget -q http://www-us.apache.org/dist/spark/$SPARK_VERSION/$SPARK_VERSION-bin-hadoop2.7.tgz\n",
        "!tar xf $SPARK_VERSION-bin-hadoop2.7.tgz\n",
        "!pip install -q findspark\n",
        "\n",
        "# Set Environment Variables\n",
        "import os\n",
        "os.environ[\"JAVA_HOME\"] = \"/usr/lib/jvm/java-11-openjdk-amd64\"\n",
        "os.environ[\"SPARK_HOME\"] = f\"/content/{spark_version}-bin-hadoop2.7\"\n",
        "\n",
        "# Start a SparkSession\n",
        "import findspark\n",
        "findspark.init()"
      ],
      "execution_count": 1,
      "outputs": [
        {
          "output_type": "stream",
          "text": [
            "\r0% [Working]\r            \rHit:1 https://cloud.r-project.org/bin/linux/ubuntu bionic-cran40/ InRelease\n",
            "\r0% [Connecting to archive.ubuntu.com (91.189.88.152)] [Connecting to security.u\r0% [1 InRelease gpgv 3,626 B] [Connecting to archive.ubuntu.com (91.189.88.152)\r                                                                               \rGet:2 http://security.ubuntu.com/ubuntu bionic-security InRelease [88.7 kB]\n",
            "\r0% [1 InRelease gpgv 3,626 B] [Waiting for headers] [2 InRelease 14.2 kB/88.7 k\r                                                                               \rIgn:3 https://developer.download.nvidia.com/compute/cuda/repos/ubuntu1804/x86_64  InRelease\n",
            "Get:4 http://ppa.launchpad.net/c2d4u.team/c2d4u4.0+/ubuntu bionic InRelease [15.9 kB]\n",
            "Hit:5 http://archive.ubuntu.com/ubuntu bionic InRelease\n",
            "Ign:6 https://developer.download.nvidia.com/compute/machine-learning/repos/ubuntu1804/x86_64  InRelease\n",
            "Get:7 https://developer.download.nvidia.com/compute/cuda/repos/ubuntu1804/x86_64  Release [697 B]\n",
            "Hit:8 https://developer.download.nvidia.com/compute/machine-learning/repos/ubuntu1804/x86_64  Release\n",
            "Get:9 https://developer.download.nvidia.com/compute/cuda/repos/ubuntu1804/x86_64  Release.gpg [836 B]\n",
            "Get:10 http://archive.ubuntu.com/ubuntu bionic-updates InRelease [88.7 kB]\n",
            "Hit:11 http://ppa.launchpad.net/cran/libgit2/ubuntu bionic InRelease\n",
            "Get:12 http://archive.ubuntu.com/ubuntu bionic-backports InRelease [74.6 kB]\n",
            "Get:13 http://security.ubuntu.com/ubuntu bionic-security/restricted amd64 Packages [473 kB]\n",
            "Get:14 http://ppa.launchpad.net/deadsnakes/ppa/ubuntu bionic InRelease [15.9 kB]\n",
            "Get:15 http://security.ubuntu.com/ubuntu bionic-security/main amd64 Packages [2,220 kB]\n",
            "Get:16 http://security.ubuntu.com/ubuntu bionic-security/universe amd64 Packages [1,418 kB]\n",
            "Get:17 http://ppa.launchpad.net/graphics-drivers/ppa/ubuntu bionic InRelease [21.3 kB]\n",
            "Ign:19 https://developer.download.nvidia.com/compute/cuda/repos/ubuntu1804/x86_64  Packages\n",
            "Get:19 https://developer.download.nvidia.com/compute/cuda/repos/ubuntu1804/x86_64  Packages [599 kB]\n",
            "Get:20 http://ppa.launchpad.net/c2d4u.team/c2d4u4.0+/ubuntu bionic/main Sources [1,774 kB]\n",
            "Get:21 http://archive.ubuntu.com/ubuntu bionic-updates/universe amd64 Packages [2,188 kB]\n",
            "Get:22 http://ppa.launchpad.net/c2d4u.team/c2d4u4.0+/ubuntu bionic/main amd64 Packages [907 kB]\n",
            "Get:23 http://archive.ubuntu.com/ubuntu bionic-updates/main amd64 Packages [2,653 kB]\n",
            "Get:24 http://archive.ubuntu.com/ubuntu bionic-updates/restricted amd64 Packages [505 kB]\n",
            "Get:25 http://ppa.launchpad.net/deadsnakes/ppa/ubuntu bionic/main amd64 Packages [40.9 kB]\n",
            "Get:26 http://ppa.launchpad.net/graphics-drivers/ppa/ubuntu bionic/main amd64 Packages [41.5 kB]\n",
            "Fetched 13.1 MB in 3s (3,817 kB/s)\n",
            "Reading package lists... Done\n"
          ],
          "name": "stdout"
        }
      ]
    },
    {
      "cell_type": "code",
      "metadata": {
        "colab": {
          "base_uri": "https://localhost:8080/"
        },
        "id": "JYXwSSbDgoHb",
        "outputId": "0e8549ce-cd65-44e3-fd00-36a31ea1021b"
      },
      "source": [
        "# Download the Postgres driver that will allow Spark to interact with Postgres.\n",
        "!wget https://jdbc.postgresql.org/download/postgresql-42.2.16.jar"
      ],
      "execution_count": 2,
      "outputs": [
        {
          "output_type": "stream",
          "text": [
            "--2021-06-26 21:39:21--  https://jdbc.postgresql.org/download/postgresql-42.2.16.jar\n",
            "Resolving jdbc.postgresql.org (jdbc.postgresql.org)... 72.32.157.228, 2001:4800:3e1:1::228\n",
            "Connecting to jdbc.postgresql.org (jdbc.postgresql.org)|72.32.157.228|:443... connected.\n",
            "HTTP request sent, awaiting response... 200 OK\n",
            "Length: 1002883 (979K) [application/java-archive]\n",
            "Saving to: ‘postgresql-42.2.16.jar’\n",
            "\n",
            "postgresql-42.2.16. 100%[===================>] 979.38K  5.79MB/s    in 0.2s    \n",
            "\n",
            "2021-06-26 21:39:21 (5.79 MB/s) - ‘postgresql-42.2.16.jar’ saved [1002883/1002883]\n",
            "\n"
          ],
          "name": "stdout"
        }
      ]
    },
    {
      "cell_type": "code",
      "metadata": {
        "id": "uea7IO0kgsHd"
      },
      "source": [
        "from pyspark.sql import SparkSession\n",
        "spark = SparkSession.builder.appName(\"BigData-Challenge_2\").config(\"spark.driver.extraClassPath\",\"/content/postgresql-42.2.16.jar\").getOrCreate()"
      ],
      "execution_count": 3,
      "outputs": []
    },
    {
      "cell_type": "code",
      "metadata": {
        "colab": {
          "base_uri": "https://localhost:8080/"
        },
        "id": "kJnRpQ7kgsXu",
        "outputId": "ae0be988-795c-4b4e-827d-5ccf5820c774"
      },
      "source": [
        "from pyspark import SparkFiles\n",
        "url = \"https://s3.amazonaws.com/amazon-reviews-pds/tsv/amazon_reviews_us_Kitchen_v1_00.tsv.gz\"\n",
        "spark.sparkContext.addFile(url)\n",
        "# this wasn't working for someone that messaged in the slack channel. Might have something to do with the file type. Look up tsv.gz\n",
        "df = spark.read.option(\"encoding\", \"UTF-8\").csv(SparkFiles.get(\"amazon_reviews_us_Kitchen_v1_00.tsv.gz\"), sep=\"\\t\", header=True, inferSchema=True)\n",
        "df.show()"
      ],
      "execution_count": 4,
      "outputs": [
        {
          "output_type": "stream",
          "text": [
            "+-----------+-----------+--------------+----------+--------------+--------------------+----------------+-----------+-------------+-----------+----+-----------------+--------------------+--------------------+-----------+\n",
            "|marketplace|customer_id|     review_id|product_id|product_parent|       product_title|product_category|star_rating|helpful_votes|total_votes|vine|verified_purchase|     review_headline|         review_body|review_date|\n",
            "+-----------+-----------+--------------+----------+--------------+--------------------+----------------+-----------+-------------+-----------+----+-----------------+--------------------+--------------------+-----------+\n",
            "|         US|   37000337|R3DT59XH7HXR9K|B00303FI0G|     529320574|Arthur Court Pape...|         Kitchen|          5|            0|          0|   N|                Y|Beautiful. Looks ...|Beautiful.  Looks...| 2015-08-31|\n",
            "|         US|   15272914|R1LFS11BNASSU8|B00JCZKZN6|     274237558|Olde Thompson Bav...|         Kitchen|          5|            0|          1|   N|                Y| Awesome & Self-ness|I personally have...| 2015-08-31|\n",
            "|         US|   36137863|R296RT05AG0AF6|B00JLIKA5C|     544675303|Progressive Inter...|         Kitchen|          5|            0|          0|   N|                Y|Fabulous and wort...|Fabulous and wort...| 2015-08-31|\n",
            "|         US|   43311049|R3V37XDZ7ZCI3L|B000GBNB8G|     491599489|Zyliss Jumbo Garl...|         Kitchen|          5|            0|          1|   N|                Y|          Five Stars|A must if you lov...| 2015-08-31|\n",
            "|         US|   13763148|R14GU232NQFYX2|B00VJ5KX9S|     353790155|1 X Premier Pizza...|         Kitchen|          5|            0|          0|   N|                Y|     Better than sex|Worth every penny...| 2015-08-31|\n",
            "|         US|   19009420| RZQH4V7L2O1PL|B00HYB5YY0|     432241873|       CHEF Aluminum|         Kitchen|          1|            1|          1|   N|                Y|Does not work on ...|The description s...| 2015-08-31|\n",
            "|         US|   40599388|R1F8JMOSPJ3KO7|B000HEBAV2|     584680984|Presto Dual Profr...|         Kitchen|          5|            0|          0|   N|                Y|Awesome! First fr...|Awesome! First fr...| 2015-08-31|\n",
            "|         US|   22719359|R1ZISGY2BWW4Z5|B0012DS4GG|     772637306|Rubbermaid Produc...|         Kitchen|          5|            0|          0|   N|                Y|          Five Stars|Very good item. Q...| 2015-08-31|\n",
            "|         US|   47478640|R17PW4I3AE5WZW|B00FLQ4EE6|     755416578|Cuisinart 12-Piec...|         Kitchen|          5|            0|          0|   N|                Y|          Five Stars|sharp and look great| 2015-08-31|\n",
            "|         US|   34195504|R3D93G1KTP6A8P|B00DBS9OTG|     648762742|Kegco 6\" Stainles...|         Kitchen|          3|            0|          0|   N|                Y|         Three Stars|Should have come ...| 2015-08-31|\n",
            "|         US|   19100570|R18TQIW1NKPUNU|B00AN9UJ68|     495720940|Cuisinart Smart S...|         Kitchen|          5|            0|          0|   N|                Y|          Five Stars|  my friend loves it| 2015-08-31|\n",
            "|         US|   10299811|R34KUNL21WU248|B00L2P0KNO|      41330497|Searzall Torch At...|         Kitchen|          4|            0|          0|   N|                Y|          Four Stars|works as expected...| 2015-08-31|\n",
            "|         US|   32687006|R2YA1ZA53X12IN|B00NQOJQXY|     191893454|Wilton 1512-1664 ...|         Kitchen|          5|            0|          0|   N|                Y|               great|               great| 2015-08-31|\n",
            "|         US|   43260893|R2ZD1IGC9UU55X|B00080QE1Q|     277442428|Magnalite Classic...|         Kitchen|          5|            1|          1|   N|                Y|         Great Pots!|Fantastic product...| 2015-08-31|\n",
            "|         US|    8067227| R9J2YMVZTUVZ7|B009VU17ZM|     414077276|Sun's Tea(TM) 20o...|         Kitchen|          5|            0|          0|   N|                Y|          Five Stars|Work great, well ...| 2015-08-31|\n",
            "|         US|   18139929|R2UUXJ0WQR0CNI|B00MY71KO2|     138697457|Adventure Time Be...|         Kitchen|          4|            0|          0|   N|                Y|              So big|holds a loooot of...| 2015-08-31|\n",
            "|         US|   12282702|R3S9QICITG73JZ|B00A6N18CK|      48180946|DecoBros 3 Tier D...|         Kitchen|          5|            0|          0|   N|                Y|It looks nice & n...|The DecoBros K cu...| 2015-08-31|\n",
            "|         US|   38649737|R3LISNJHS64PDA|B00AB8NOLS|      67759108|Brita Water Filte...|         Kitchen|          4|            0|          0|   N|                Y|          Four Stars| Met my expectations| 2015-08-31|\n",
            "|         US|   33460969|R28RB82UG4RDD5|B00FB4UPA0|      10711472|Nifty Home 24 K-C...|         Kitchen|          5|           20|         20|   N|                Y| Saves counter space|Fits under my ful...| 2015-08-31|\n",
            "|         US|   40274860|R3H0PRVII5991X|B00YMHBQ0A|     618617346|Eoonfirst Snoopy ...|         Kitchen|          5|            0|          0|   N|                Y|          Five Stars|            Love it!| 2015-08-31|\n",
            "+-----------+-----------+--------------+----------+--------------+--------------------+----------------+-----------+-------------+-----------+----+-----------------+--------------------+--------------------+-----------+\n",
            "only showing top 20 rows\n",
            "\n"
          ],
          "name": "stdout"
        }
      ]
    },
    {
      "cell_type": "code",
      "metadata": {
        "id": "Pjae4kLNgsbT"
      },
      "source": [
        "from pyspark.sql.functions import to_date\n",
        "# Read in the Review dataset as a DataFrame"
      ],
      "execution_count": 5,
      "outputs": []
    },
    {
      "cell_type": "code",
      "metadata": {
        "colab": {
          "base_uri": "https://localhost:8080/"
        },
        "id": "hjRmZ15YQxU8",
        "outputId": "2aed9bfc-87a2-407e-ec2d-048a92b0bca6"
      },
      "source": [
        "print(f'{df.count():,}')"
      ],
      "execution_count": 6,
      "outputs": [
        {
          "output_type": "stream",
          "text": [
            "4,880,466\n"
          ],
          "name": "stdout"
        }
      ]
    },
    {
      "cell_type": "code",
      "metadata": {
        "colab": {
          "base_uri": "https://localhost:8080/"
        },
        "id": "innHBNI4hxQQ",
        "outputId": "88291354-747a-445d-bd6a-42e1e5204648"
      },
      "source": [
        "# filter df to retrieve all rows where total_votes is greater than 20\n",
        "filtered_reviews = df.filter(df.total_votes > 20)\n",
        "filtered_reviews.show(10)"
      ],
      "execution_count": 7,
      "outputs": [
        {
          "output_type": "stream",
          "text": [
            "+-----------+-----------+--------------+----------+--------------+--------------------+----------------+-----------+-------------+-----------+----+-----------------+--------------------+--------------------+-----------+\n",
            "|marketplace|customer_id|     review_id|product_id|product_parent|       product_title|product_category|star_rating|helpful_votes|total_votes|vine|verified_purchase|     review_headline|         review_body|review_date|\n",
            "+-----------+-----------+--------------+----------+--------------+--------------------+----------------+-----------+-------------+-----------+----+-----------------+--------------------+--------------------+-----------+\n",
            "|         US|   47272965|R3FB6BERWPEIJP|B0029OXHVY|     236056882|Wusthof Classic I...|         Kitchen|          4|           40|         43|   N|                Y|Great knife but w...|This knife has be...| 2015-08-31|\n",
            "|         US|   17776853|R1D4Z38STRDQXK|B00IRW15ES|     936830997|Wabash Valley Far...|         Kitchen|          5|           53|         56|   N|                Y|Very Heavy Duty -...|Let me first say,...| 2015-08-31|\n",
            "|         US|   42482060|R1XMWJZICINIFX|B00EPHPQOE|     976827724|French-inspired \"...|         Kitchen|          3|           20|         21|   N|                Y|Double Check the ...|This is a really ...| 2015-08-31|\n",
            "|         US|   52832486|R20QKY1GABXFLM|B00URO56CG|     342955358|Rachael Ray 14-Pi...|         Kitchen|          1|          272|        297|   N|                Y|First time using ...|The first time us...| 2015-08-31|\n",
            "|         US|   13782702|R3GZ7CK2O1PPG0|B00XA284WG|      79322164|hölm Flexible Sil...|         Kitchen|          2|           10|         30|   N|                Y|Should be made mo...|Not crazy about t...| 2015-08-31|\n",
            "|         US|   30356443|R3DH22AA5WGLLS|B0040QD9MG|     945191020|Sistema Klip It C...|         Kitchen|          5|           30|         30|   N|                N|Versatile, great ...|Over the last thr...| 2015-08-31|\n",
            "|         US|   16963471|R1E0E5EFZSLJCS|B000066OJD|     355371628|OXO SoftWorks Mea...|         Kitchen|          1|           66|         80|   N|                Y|             painful|Please see the pi...| 2015-08-31|\n",
            "|         US|    8612349|R1TXZQWEHYWEWN|B00H8OATE8|     628321891|Philips HD9230/26...|         Kitchen|          2|           48|         51|   N|                Y|... air fryer in ...|Bought this air f...| 2015-08-31|\n",
            "|         US|   35807336| RQQAI8YL3UCY2|B00YSBTXBY|     308733658|iCoffee RSS300-DA...|         Kitchen|          5|           23|         25|   N|                Y|This is an excell...|I thought I'd alr...| 2015-08-31|\n",
            "|         US|   43175994|R3PZNAQREFUNJ7|B00GRIR87M|     319510941|Spiralizer 5-Blad...|         Kitchen|          4|           28|         35|   N|                Y|Works well but fo...|Overall like the ...| 2015-08-31|\n",
            "+-----------+-----------+--------------+----------+--------------+--------------------+----------------+-----------+-------------+-----------+----+-----------------+--------------------+--------------------+-----------+\n",
            "only showing top 10 rows\n",
            "\n"
          ],
          "name": "stdout"
        }
      ]
    },
    {
      "cell_type": "code",
      "metadata": {
        "colab": {
          "base_uri": "https://localhost:8080/"
        },
        "id": "bYUi-oA8iteh",
        "outputId": "2bdb3255-bd5d-4f12-df86-10cd795872a5"
      },
      "source": [
        "# create a new column where helpful votes are at least 50% of the votes\n",
        "from pyspark.sql.functions import col\n",
        "\n",
        "filtered_reviews = filtered_reviews.withColumn(\"helpful_reviews\", col(\"helpful_votes\") / col(\"total_votes\"))\n",
        "filtered_reviews.show(10)"
      ],
      "execution_count": 8,
      "outputs": [
        {
          "output_type": "stream",
          "text": [
            "+-----------+-----------+--------------+----------+--------------+--------------------+----------------+-----------+-------------+-----------+----+-----------------+--------------------+--------------------+-----------+------------------+\n",
            "|marketplace|customer_id|     review_id|product_id|product_parent|       product_title|product_category|star_rating|helpful_votes|total_votes|vine|verified_purchase|     review_headline|         review_body|review_date|   helpful_reviews|\n",
            "+-----------+-----------+--------------+----------+--------------+--------------------+----------------+-----------+-------------+-----------+----+-----------------+--------------------+--------------------+-----------+------------------+\n",
            "|         US|   47272965|R3FB6BERWPEIJP|B0029OXHVY|     236056882|Wusthof Classic I...|         Kitchen|          4|           40|         43|   N|                Y|Great knife but w...|This knife has be...| 2015-08-31|0.9302325581395349|\n",
            "|         US|   17776853|R1D4Z38STRDQXK|B00IRW15ES|     936830997|Wabash Valley Far...|         Kitchen|          5|           53|         56|   N|                Y|Very Heavy Duty -...|Let me first say,...| 2015-08-31|0.9464285714285714|\n",
            "|         US|   42482060|R1XMWJZICINIFX|B00EPHPQOE|     976827724|French-inspired \"...|         Kitchen|          3|           20|         21|   N|                Y|Double Check the ...|This is a really ...| 2015-08-31|0.9523809523809523|\n",
            "|         US|   52832486|R20QKY1GABXFLM|B00URO56CG|     342955358|Rachael Ray 14-Pi...|         Kitchen|          1|          272|        297|   N|                Y|First time using ...|The first time us...| 2015-08-31|0.9158249158249159|\n",
            "|         US|   13782702|R3GZ7CK2O1PPG0|B00XA284WG|      79322164|hölm Flexible Sil...|         Kitchen|          2|           10|         30|   N|                Y|Should be made mo...|Not crazy about t...| 2015-08-31|0.3333333333333333|\n",
            "|         US|   30356443|R3DH22AA5WGLLS|B0040QD9MG|     945191020|Sistema Klip It C...|         Kitchen|          5|           30|         30|   N|                N|Versatile, great ...|Over the last thr...| 2015-08-31|               1.0|\n",
            "|         US|   16963471|R1E0E5EFZSLJCS|B000066OJD|     355371628|OXO SoftWorks Mea...|         Kitchen|          1|           66|         80|   N|                Y|             painful|Please see the pi...| 2015-08-31|             0.825|\n",
            "|         US|    8612349|R1TXZQWEHYWEWN|B00H8OATE8|     628321891|Philips HD9230/26...|         Kitchen|          2|           48|         51|   N|                Y|... air fryer in ...|Bought this air f...| 2015-08-31|0.9411764705882353|\n",
            "|         US|   35807336| RQQAI8YL3UCY2|B00YSBTXBY|     308733658|iCoffee RSS300-DA...|         Kitchen|          5|           23|         25|   N|                Y|This is an excell...|I thought I'd alr...| 2015-08-31|              0.92|\n",
            "|         US|   43175994|R3PZNAQREFUNJ7|B00GRIR87M|     319510941|Spiralizer 5-Blad...|         Kitchen|          4|           28|         35|   N|                Y|Works well but fo...|Overall like the ...| 2015-08-31|               0.8|\n",
            "+-----------+-----------+--------------+----------+--------------+--------------------+----------------+-----------+-------------+-----------+----+-----------------+--------------------+--------------------+-----------+------------------+\n",
            "only showing top 10 rows\n",
            "\n"
          ],
          "name": "stdout"
        }
      ]
    },
    {
      "cell_type": "code",
      "metadata": {
        "colab": {
          "base_uri": "https://localhost:8080/"
        },
        "id": "7MiMLmtC_e4z",
        "outputId": "3c05e4b4-c935-484d-8a83-b1df9e11c305"
      },
      "source": [
        "filtered_reviews.count()"
      ],
      "execution_count": 12,
      "outputs": [
        {
          "output_type": "execute_result",
          "data": {
            "text/plain": [
              "101229"
            ]
          },
          "metadata": {
            "tags": []
          },
          "execution_count": 12
        }
      ]
    },
    {
      "cell_type": "code",
      "metadata": {
        "colab": {
          "base_uri": "https://localhost:8080/"
        },
        "id": "-lfVmXN3pu7O",
        "outputId": "31d8a9ff-29a3-4a13-cac8-14244a0ae672"
      },
      "source": [
        "# filter new df where helpful_reviews is greater than 50%\n",
        "helpful_over_50 = filtered_reviews.filter(filtered_reviews.helpful_reviews > 0.50)\n",
        "helpful_over_50.show(10)"
      ],
      "execution_count": 9,
      "outputs": [
        {
          "output_type": "stream",
          "text": [
            "+-----------+-----------+--------------+----------+--------------+--------------------+----------------+-----------+-------------+-----------+----+-----------------+--------------------+--------------------+-----------+------------------+\n",
            "|marketplace|customer_id|     review_id|product_id|product_parent|       product_title|product_category|star_rating|helpful_votes|total_votes|vine|verified_purchase|     review_headline|         review_body|review_date|   helpful_reviews|\n",
            "+-----------+-----------+--------------+----------+--------------+--------------------+----------------+-----------+-------------+-----------+----+-----------------+--------------------+--------------------+-----------+------------------+\n",
            "|         US|   47272965|R3FB6BERWPEIJP|B0029OXHVY|     236056882|Wusthof Classic I...|         Kitchen|          4|           40|         43|   N|                Y|Great knife but w...|This knife has be...| 2015-08-31|0.9302325581395349|\n",
            "|         US|   17776853|R1D4Z38STRDQXK|B00IRW15ES|     936830997|Wabash Valley Far...|         Kitchen|          5|           53|         56|   N|                Y|Very Heavy Duty -...|Let me first say,...| 2015-08-31|0.9464285714285714|\n",
            "|         US|   42482060|R1XMWJZICINIFX|B00EPHPQOE|     976827724|French-inspired \"...|         Kitchen|          3|           20|         21|   N|                Y|Double Check the ...|This is a really ...| 2015-08-31|0.9523809523809523|\n",
            "|         US|   52832486|R20QKY1GABXFLM|B00URO56CG|     342955358|Rachael Ray 14-Pi...|         Kitchen|          1|          272|        297|   N|                Y|First time using ...|The first time us...| 2015-08-31|0.9158249158249159|\n",
            "|         US|   30356443|R3DH22AA5WGLLS|B0040QD9MG|     945191020|Sistema Klip It C...|         Kitchen|          5|           30|         30|   N|                N|Versatile, great ...|Over the last thr...| 2015-08-31|               1.0|\n",
            "|         US|   16963471|R1E0E5EFZSLJCS|B000066OJD|     355371628|OXO SoftWorks Mea...|         Kitchen|          1|           66|         80|   N|                Y|             painful|Please see the pi...| 2015-08-31|             0.825|\n",
            "|         US|    8612349|R1TXZQWEHYWEWN|B00H8OATE8|     628321891|Philips HD9230/26...|         Kitchen|          2|           48|         51|   N|                Y|... air fryer in ...|Bought this air f...| 2015-08-31|0.9411764705882353|\n",
            "|         US|   35807336| RQQAI8YL3UCY2|B00YSBTXBY|     308733658|iCoffee RSS300-DA...|         Kitchen|          5|           23|         25|   N|                Y|This is an excell...|I thought I'd alr...| 2015-08-31|              0.92|\n",
            "|         US|   43175994|R3PZNAQREFUNJ7|B00GRIR87M|     319510941|Spiralizer 5-Blad...|         Kitchen|          4|           28|         35|   N|                Y|Works well but fo...|Overall like the ...| 2015-08-31|               0.8|\n",
            "|         US|   42297008|R3SHJSHTY8AXKR|B003QP30S0|     900642667|Prepworks from Pr...|         Kitchen|          5|           69|         72|   N|                Y|Just Perfect for ...|This item is perf...| 2015-08-31|0.9583333333333334|\n",
            "+-----------+-----------+--------------+----------+--------------+--------------------+----------------+-----------+-------------+-----------+----+-----------------+--------------------+--------------------+-----------+------------------+\n",
            "only showing top 10 rows\n",
            "\n"
          ],
          "name": "stdout"
        }
      ]
    },
    {
      "cell_type": "code",
      "metadata": {
        "colab": {
          "base_uri": "https://localhost:8080/"
        },
        "id": "WsyNzrPRqVWh",
        "outputId": "63b962a6-21b0-4560-cea2-52ef442c1132"
      },
      "source": [
        "#helpful_over_50.count()"
      ],
      "execution_count": null,
      "outputs": [
        {
          "output_type": "execute_result",
          "data": {
            "text/plain": [
              "93246"
            ]
          },
          "metadata": {
            "tags": []
          },
          "execution_count": 13
        }
      ]
    },
    {
      "cell_type": "code",
      "metadata": {
        "colab": {
          "base_uri": "https://localhost:8080/"
        },
        "id": "9ahtIRcEAW6z",
        "outputId": "683020f3-71d0-4cd5-935d-f68a61fe71e8"
      },
      "source": [
        "# filter again to see how many helpful reviews are vine reviews.\n",
        "helpful_vine_reviews = helpful_over_50.filter(helpful_over_50.vine == \"Y\")\n",
        "helpful_vine_reviews.show(10)"
      ],
      "execution_count": 10,
      "outputs": [
        {
          "output_type": "stream",
          "text": [
            "+-----------+-----------+--------------+----------+--------------+--------------------+----------------+-----------+-------------+-----------+----+-----------------+--------------------+--------------------+-----------+------------------+\n",
            "|marketplace|customer_id|     review_id|product_id|product_parent|       product_title|product_category|star_rating|helpful_votes|total_votes|vine|verified_purchase|     review_headline|         review_body|review_date|   helpful_reviews|\n",
            "+-----------+-----------+--------------+----------+--------------+--------------------+----------------+-----------+-------------+-----------+----+-----------------+--------------------+--------------------+-----------+------------------+\n",
            "|         US|   33146712|R1Z71RW4J9IK93|B00YCP6UEO|     238165328|De'Longhi Automat...|         Kitchen|          5|           20|         22|   Y|                N|If you make cappu...|It's really hard ...| 2015-08-29|0.9090909090909091|\n",
            "|         US|   16449486|R3FVB5QI11KI9Q|B00YCP71VK|      62048996|De'Longhi ECP3220...|         Kitchen|          4|          192|        200|   Y|                N|    Espresso Machine|The De'Longhi ECP...| 2015-08-29|              0.96|\n",
            "|         US|   36602384|R2G027YBMVXV6Y|B00YCP71VK|      62048996|De'Longhi ECP3220...|         Kitchen|          5|           39|         48|   Y|                N|Pricy, But Good M...|Context: This is ...| 2015-08-28|            0.8125|\n",
            "|         US|   50079351|R1QGBAN7BMGWRR|B012CG8N26|     416688753|Hamilton Beach 32...|         Kitchen|          5|          121|        129|   Y|                N|Everything a begi...|I have been dehyd...| 2015-08-27| 0.937984496124031|\n",
            "|         US|   44737123|R2YVVJ9NOPNX50|B00GOH28S0|     102175725|Coravin Model Win...|         Kitchen|          4|           36|         41|   Y|                N|Makes the Impossi...|This unique new p...| 2015-08-22|0.8780487804878049|\n",
            "|         US|   53018261|R1XH1LK1FWX3OS|B00V5IM5PY|     960400901|AmazonBasics Stai...|         Kitchen|          4|          214|        238|   Y|                N|Good quality for ...|I have an EatSmar...| 2015-08-22|0.8991596638655462|\n",
            "|         US|   18378753|R38LSQ71G2IZGS|B00XAEIS3O|     207269388|Farberware 12 Pie...|         Kitchen|          5|           26|         29|   Y|                N|Excellent Heat Di...|I've got a simila...| 2015-08-22| 0.896551724137931|\n",
            "|         US|   36849547|R2FLITQVKWXDF4|B00YCP6RBA|     709255424|De'Longhi ECAM232...|         Kitchen|          3|           26|         34|   Y|                N|I really tried to...|Here's my perspec...| 2015-08-19|0.7647058823529411|\n",
            "|         US|   51094564|R25LMMZF3DJTWY|B00LBW6UKU|     496108565|KitchenAid Pro Li...|         Kitchen|          2|           18|         21|   Y|                N|lack of temperatu...|Although this esp...| 2015-08-17|0.8571428571428571|\n",
            "|         US|   36356690|R18NC69T0KEC00|B00TQIUUVQ|     629372721|George Foreman GP...|         Kitchen|          5|           20|         23|   Y|                N|We Enjoy Camping ...|This griddle is c...| 2015-08-16|0.8695652173913043|\n",
            "+-----------+-----------+--------------+----------+--------------+--------------------+----------------+-----------+-------------+-----------+----+-----------------+--------------------+--------------------+-----------+------------------+\n",
            "only showing top 10 rows\n",
            "\n"
          ],
          "name": "stdout"
        }
      ]
    },
    {
      "cell_type": "code",
      "metadata": {
        "colab": {
          "base_uri": "https://localhost:8080/"
        },
        "id": "5025LS35A25E",
        "outputId": "853c6bdb-7041-43a7-829a-73c7d3466b51"
      },
      "source": [
        "# filter to see how many of the helpful reviews are non-vine reviews. \n",
        "helpful_non_vine_reviews = helpful_over_50.filter(helpful_over_50.vine == \"N\")\n",
        "helpful_non_vine_reviews.show(10)"
      ],
      "execution_count": 11,
      "outputs": [
        {
          "output_type": "stream",
          "text": [
            "+-----------+-----------+--------------+----------+--------------+--------------------+----------------+-----------+-------------+-----------+----+-----------------+--------------------+--------------------+-----------+------------------+\n",
            "|marketplace|customer_id|     review_id|product_id|product_parent|       product_title|product_category|star_rating|helpful_votes|total_votes|vine|verified_purchase|     review_headline|         review_body|review_date|   helpful_reviews|\n",
            "+-----------+-----------+--------------+----------+--------------+--------------------+----------------+-----------+-------------+-----------+----+-----------------+--------------------+--------------------+-----------+------------------+\n",
            "|         US|   47272965|R3FB6BERWPEIJP|B0029OXHVY|     236056882|Wusthof Classic I...|         Kitchen|          4|           40|         43|   N|                Y|Great knife but w...|This knife has be...| 2015-08-31|0.9302325581395349|\n",
            "|         US|   17776853|R1D4Z38STRDQXK|B00IRW15ES|     936830997|Wabash Valley Far...|         Kitchen|          5|           53|         56|   N|                Y|Very Heavy Duty -...|Let me first say,...| 2015-08-31|0.9464285714285714|\n",
            "|         US|   42482060|R1XMWJZICINIFX|B00EPHPQOE|     976827724|French-inspired \"...|         Kitchen|          3|           20|         21|   N|                Y|Double Check the ...|This is a really ...| 2015-08-31|0.9523809523809523|\n",
            "|         US|   52832486|R20QKY1GABXFLM|B00URO56CG|     342955358|Rachael Ray 14-Pi...|         Kitchen|          1|          272|        297|   N|                Y|First time using ...|The first time us...| 2015-08-31|0.9158249158249159|\n",
            "|         US|   30356443|R3DH22AA5WGLLS|B0040QD9MG|     945191020|Sistema Klip It C...|         Kitchen|          5|           30|         30|   N|                N|Versatile, great ...|Over the last thr...| 2015-08-31|               1.0|\n",
            "|         US|   16963471|R1E0E5EFZSLJCS|B000066OJD|     355371628|OXO SoftWorks Mea...|         Kitchen|          1|           66|         80|   N|                Y|             painful|Please see the pi...| 2015-08-31|             0.825|\n",
            "|         US|    8612349|R1TXZQWEHYWEWN|B00H8OATE8|     628321891|Philips HD9230/26...|         Kitchen|          2|           48|         51|   N|                Y|... air fryer in ...|Bought this air f...| 2015-08-31|0.9411764705882353|\n",
            "|         US|   35807336| RQQAI8YL3UCY2|B00YSBTXBY|     308733658|iCoffee RSS300-DA...|         Kitchen|          5|           23|         25|   N|                Y|This is an excell...|I thought I'd alr...| 2015-08-31|              0.92|\n",
            "|         US|   43175994|R3PZNAQREFUNJ7|B00GRIR87M|     319510941|Spiralizer 5-Blad...|         Kitchen|          4|           28|         35|   N|                Y|Works well but fo...|Overall like the ...| 2015-08-31|               0.8|\n",
            "|         US|   42297008|R3SHJSHTY8AXKR|B003QP30S0|     900642667|Prepworks from Pr...|         Kitchen|          5|           69|         72|   N|                Y|Just Perfect for ...|This item is perf...| 2015-08-31|0.9583333333333334|\n",
            "+-----------+-----------+--------------+----------+--------------+--------------------+----------------+-----------+-------------+-----------+----+-----------------+--------------------+--------------------+-----------+------------------+\n",
            "only showing top 10 rows\n",
            "\n"
          ],
          "name": "stdout"
        }
      ]
    },
    {
      "cell_type": "code",
      "metadata": {
        "colab": {
          "base_uri": "https://localhost:8080/"
        },
        "id": "0FGyPGciBcor",
        "outputId": "194315fa-e4cd-41df-a444-ec574a450b33"
      },
      "source": [
        "# determine the total number of reviews\n",
        "total_reviews = filtered_reviews.count()\n",
        "print(\"Total number of reviews: \" + str(f'{total_reviews:,}'))"
      ],
      "execution_count": 13,
      "outputs": [
        {
          "output_type": "stream",
          "text": [
            "Total number of reviews: 101,229\n"
          ],
          "name": "stdout"
        }
      ]
    },
    {
      "cell_type": "code",
      "metadata": {
        "colab": {
          "base_uri": "https://localhost:8080/"
        },
        "id": "amf3xv5oD4iE",
        "outputId": "a005a7ee-51a3-4ce4-b3c8-c6fce19ffb69"
      },
      "source": [
        "# determine the total number of 5-star reviews\n",
        "five_star_reviews = (filtered_reviews.filter(filtered_reviews.star_rating == 5).count())\n",
        "print(\"Total 5-star reviews: \" + str(f'{five_star_reviews:,}'))"
      ],
      "execution_count": 14,
      "outputs": [
        {
          "output_type": "stream",
          "text": [
            "Total 5-star reviews: 44,378\n"
          ],
          "name": "stdout"
        }
      ]
    },
    {
      "cell_type": "code",
      "metadata": {
        "colab": {
          "base_uri": "https://localhost:8080/"
        },
        "id": "ncU8rV7_D5Qh",
        "outputId": "e17f02ca-8e00-4978-92a8-9842d389a7e6"
      },
      "source": [
        "# determine the percetnage of 5-star reviews for both paid (vine) and unpaid\n",
        "vine_5 = filtered_reviews.filter((filtered_reviews.star_rating == 5) & (filtered_reviews.vine == \"Y\")).count()\n",
        "print(\"Vine 5 star reviews: \" + str(f'{vine_5:,}'))"
      ],
      "execution_count": 16,
      "outputs": [
        {
          "output_type": "stream",
          "text": [
            "Vine 5 star reviews: 490\n"
          ],
          "name": "stdout"
        }
      ]
    },
    {
      "cell_type": "code",
      "metadata": {
        "id": "7UPfPvE2DZRY"
      },
      "source": [
        "# 5-star vine"
      ],
      "execution_count": null,
      "outputs": []
    },
    {
      "cell_type": "code",
      "metadata": {
        "colab": {
          "base_uri": "https://localhost:8080/"
        },
        "id": "y4119gUKD-Ec",
        "outputId": "99f76fd6-22ec-49f6-c513-989ba63af73a"
      },
      "source": [
        "# 5-star non-vine\n",
        "non_vine_5 = filtered_reviews.filter((filtered_reviews.star_rating == 5) & (filtered_reviews.vine == \"N\")).count()\n",
        "print(\"Non-Vine 5 star reviews: \" + str(f'{non_vine_5:,}'))"
      ],
      "execution_count": 17,
      "outputs": [
        {
          "output_type": "stream",
          "text": [
            "Non-Vine 5 star reviews: 43,888\n"
          ],
          "name": "stdout"
        }
      ]
    },
    {
      "cell_type": "code",
      "metadata": {
        "colab": {
          "base_uri": "https://localhost:8080/"
        },
        "id": "JMIip5kAIJ1r",
        "outputId": "d6e8412b-b3bd-41d8-f7ad-3bb8c7f0068f"
      },
      "source": [
        "# find percentage of 5-star reviews that were vine reviews\n",
        "five_star_vine_pct = vine_5 / five_star_reviews\n",
        "print(\"Percentage of 5-star reviews provided by vine members: \" + str(f'{five_star_vine_pct:.2%}'))"
      ],
      "execution_count": 18,
      "outputs": [
        {
          "output_type": "stream",
          "text": [
            "Percentage of 5-star reviews provided by vine members: 1.10%\n"
          ],
          "name": "stdout"
        }
      ]
    },
    {
      "cell_type": "code",
      "metadata": {
        "colab": {
          "base_uri": "https://localhost:8080/"
        },
        "id": "52dPMhJHJf6E",
        "outputId": "a8f6388b-b1da-4412-e726-f3f1590d5072"
      },
      "source": [
        "# find percentage of 5-star reviews that were non-vine reviews\n",
        "five_star_non_vine_pct = non_vine_5 / five_star_reviews\n",
        "print(\"Percentage of 5-star reviews provided by non-vine members: \" + str(f'{five_star_non_vine_pct:.2%}'))"
      ],
      "execution_count": 19,
      "outputs": [
        {
          "output_type": "stream",
          "text": [
            "Percentage of 5-star reviews provided by non-vine members: 98.90%\n"
          ],
          "name": "stdout"
        }
      ]
    },
    {
      "cell_type": "code",
      "metadata": {
        "id": "2a_8Ci3YJ-c_"
      },
      "source": [
        ""
      ],
      "execution_count": null,
      "outputs": []
    }
  ]
}